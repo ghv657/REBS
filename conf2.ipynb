{
 "cells": [
  {
   "cell_type": "code",
   "execution_count": 1,
   "metadata": {},
   "outputs": [],
   "source": [
    "import xml.etree.ElementTree as ET\n",
    "import pandas as pd\n",
    "import seaborn"
   ]
  },
  {
   "cell_type": "markdown",
   "metadata": {},
   "source": [
    "Import and sotering of log"
   ]
  },
  {
   "cell_type": "code",
   "execution_count": 2,
   "metadata": {},
   "outputs": [
    {
     "name": "stdout",
     "output_type": "stream",
     "text": [
      "ID\n",
      "14a-026_0    [Fill out application, Approved - to board, Ch...\n",
      "14a-027_0    [Fill out application, Approved - to board, Ch...\n",
      "14a-031_2    [Fill out application, Screening reject, Appli...\n",
      "14a-035_0    [Fill out application, Approved - to board, Ch...\n",
      "14a-037_0    [Fill out application, Approved - to board, Ch...\n",
      "                                   ...                        \n",
      "14b-627_0    [Fill out application, Approved - to board, Ch...\n",
      "14b-627_1    [Fill out application, Approved - to board, Ch...\n",
      "14b-628_0    [Fill out application, Approved - to board, Ch...\n",
      "14b-629_1    [Fill out application, Approved - to board, Ch...\n",
      "14b-631_0    [Fill out application, Approved - to board, Ch...\n",
      "Name: EventName, Length: 594, dtype: object\n",
      "HEHE\n",
      " ID\n",
      "14a-035_0    [Fill out application, Approved - to board, Ch...\n",
      "Name: EventName, dtype: object\n"
     ]
    }
   ],
   "source": [
    "log_df = pd.read_csv('log.csv', sep=';', usecols=['EventName','ID'])\n",
    "\n",
    "# Function to parse the DCR XML and extract rules\n",
    "def parse_dcr_xml(xml_path):\n",
    "    tree = ET.parse(xml_path)\n",
    "    root = tree.getroot()\n",
    "log_df = log_df.groupby('ID')['EventName'].apply(list)\n",
    "\n",
    "print(log_df)\n",
    "print(\"HEHE\\n\", log_df[[3]])"
   ]
  },
  {
   "cell_type": "markdown",
   "metadata": {},
   "source": [
    "Hardcoded conformance check"
   ]
  },
  {
   "cell_type": "code",
   "execution_count": 3,
   "metadata": {},
   "outputs": [
    {
     "name": "stdout",
     "output_type": "stream",
     "text": [
      "This is what events mean: ['Fill out application', 'Approved - to board', 'Change phase to Review', 'Inform application of board review', 'Architect Review', 'Review', 'Review', 'Register Decision', 'Change phase to Board meeting', 'Lawyer Review', 'Approve', 'Change phase to Preparation', 'Set to Pre-approved', 'Screen application', 'Execute pre-decision', 'Approve', 'Execute pre-decision', 'Change phase to Preparation', 'Set to Pre-approved', 'Inform applicant of approval', 'Round approved', 'Round ends', 'Round approved']\n",
      "This is what event means: Round approved\n",
      "Conformance Check Results:\n",
      "Rule 1: Satisfied 594, Not Satisfied 15, Irrelevant 0\n",
      "Rule 2: Satisfied 1, Not Satisfied 289, Irrelevant 304\n",
      "Rule 3: Satisfied 225, Not Satisfied 0, Irrelevant 0\n",
      "Rule 4: Satisfied 594, Not Satisfied 0, Irrelevant 0\n",
      "Rule 5: Satisfied 0, Not Satisfied 0, Irrelevant 0\n",
      "Rule 6: Satisfied 0, Not Satisfied 0, Irrelevant 0\n",
      "Rule 7: Satisfied 0, Not Satisfied 0, Irrelevant 0\n",
      "Rule 8: Satisfied 0, Not Satisfied 0, Irrelevant 0\n"
     ]
    }
   ],
   "source": [
    "def check_conformance(log_df):\n",
    "    \n",
    "    \n",
    "    rule_counts = {\n",
    "        \"Rule 1\": {\"Satisfied\": 0, \"Not Satisfied\": 0, \"Irrelevant\": 0},\n",
    "        \"Rule 2\": {\"Satisfied\": 0, \"Not Satisfied\": 0, \"Irrelevant\": 0},\n",
    "        \"Rule 3\": {\"Satisfied\": 0, \"Not Satisfied\": 0, \"Irrelevant\": 0},\n",
    "        \"Rule 4\": {\"Satisfied\": 0, \"Not Satisfied\": 0, \"Irrelevant\": 0},\n",
    "        \"Rule 5\": {\"Satisfied\": 0, \"Not Satisfied\": 0, \"Irrelevant\": 0},\n",
    "        \"Rule 6\": {\"Satisfied\": 0, \"Not Satisfied\": 0, \"Irrelevant\": 0},\n",
    "        \"Rule 7\": {\"Satisfied\": 0, \"Not Satisfied\": 0, \"Irrelevant\": 0},\n",
    "        \"Rule 8\": {\"Satisfied\": 0, \"Not Satisfied\": 0, \"Irrelevant\": 0},\n",
    "    }\n",
    "\n",
    "    \n",
    "    \n",
    "\n",
    "# Iterate through each event in the log and check rules    \n",
    "    for events in log_df:\n",
    "            for i, event in enumerate(events):\n",
    "                # Rule 1: 'Fill out application' should always be the first event\n",
    "                if event == \"Fill out application\":\n",
    "                    if i == 0:\n",
    "                        rule_counts[\"Rule 1\"][\"Satisfied\"] +=1\n",
    "                    else:\n",
    "                        rule_counts[\"Rule 1\"][\"Not Satisfied\"] += 1\n",
    "                     \n",
    "            # Rule 2: 'Lawyer Review' and 'Architect Review' should never occur together\n",
    "            if \"Lawyer Review\" in events and \"Architect Review\" in events:\n",
    "                rule_counts[\"Rule 2\"][\"Not Satisfied\"] += 1\n",
    "            elif \"Lawyer Review\" in events:\n",
    "                rule_counts[\"Rule 2\"][\"Satisfied\"] += 1\n",
    "            elif \"Architect Review\" in events:\n",
    "                rule_counts[\"Rule 2\"][\"Satisfied\"] += 1\n",
    "            else:\n",
    "                rule_counts[\"Rule 2\"][\"Irrelevant\"] += 1\n",
    "\n",
    "            # Rule 3: Reject should always eventually be followed by Applicant informed and Change phase to Abort. \n",
    "            if \"Reject\" in events:\n",
    "                reject_index = events.index(\"Reject\")\n",
    "                if \"Applicant informed\" not in events[reject_index:] or \"Change phase to Abort\" not in events[reject_index:]:\n",
    "                    rule_counts[\"Rule 3\"][\"Not Satisfied\"] += 1\n",
    "                else:\n",
    "                    rule_counts[\"Rule 3\"][\"Satisfied\"] += 1\n",
    "\n",
    "            # Rule 4: First payment should only occur once, unless Undo payment is executed afterwards, in which case it may be repeated once.\n",
    "            first_payment_count = events.count(\"First payment\")\n",
    "            if first_payment_count == 1 or (first_payment_count == 2 and \"Undo payment\" in events):\n",
    "                rule_counts[\"Rule 4\"][\"Satisfied\"] += 1\n",
    "            elif first_payment_count == 0:\n",
    "                rule_counts[\"Rule 4\"][\"Satisfied\"] += 1  # Satisfies the rule by default\n",
    "            elif first_payment_count not in [0, 1, 2]:\n",
    "                rule_counts[\"Rule 4\"][\"Not Satisfied\"] += 1\n",
    "            else:\n",
    "                rule_counts[\"Rule 4\"][\"Not Satisfied\"] += 1\n",
    "\n",
    "            # Check if \"First payment\" never occurred, it satisfies the rule by default\n",
    "            #if first_payment_count == 0:\n",
    "                #rule_counts[\"Rule 4\"][\"Satisfied\"] += 1\n",
    "        \n",
    "\n",
    "\n",
    "\n",
    "\n",
    "\n",
    "    # Print or return the counts\n",
    "    print(\"This is what events mean:\",events)\n",
    "    print(\"This is what event means:\",event)\n",
    "    return rule_counts\n",
    "\n",
    "# conformance check\n",
    "result = check_conformance(log_df)\n",
    "print(\"Conformance Check Results:\")\n",
    "for rule, counts in result.items():\n",
    "    print(f\"{rule}: Satisfied {counts['Satisfied']}, Not Satisfied {counts['Not Satisfied']}, Irrelevant {counts['Irrelevant']}\")"
   ]
  },
  {
   "cell_type": "markdown",
   "metadata": {},
   "source": [
    "Parsing and defining xml file"
   ]
  },
  {
   "cell_type": "code",
   "execution_count": 4,
   "metadata": {},
   "outputs": [
    {
     "name": "stdout",
     "output_type": "stream",
     "text": [
      "Root tag: dcrgraph\n",
      "{'Fill out application': 'Activity0', 'Lawyer review': 'Activity1', 'Architect Review': 'Activity2', 'Change phase to abandon': 'Activity3', 'Execute abandon': 'Activity4', 'Approve': 'Activity5', 'Reject': 'Activity6', 'Approve changed account': 'Activity7', 'Account number changed': 'Activity8', 'Change phase to payout': 'Activity9', 'First payment': 'Activity10', 'Undo Payment': 'Activity11', 'Change phase to aborted': 'Activity12', 'Applicant informed': 'Activity13', 'Change phase to end report': 'Activity14', 'Receive end report': 'Activity15', 'Change phase to completed': 'Activity16'}\n"
     ]
    }
   ],
   "source": [
    "def parse_xml_file(file_path):\n",
    "    # Parse the XML file\n",
    "    tree = ET.parse(file_path)\n",
    "    root = tree.getroot()\n",
    "\n",
    "    print(\"Root tag:\", root.tag)\n",
    "    for child in root.findall(\"labelMapping\"):\n",
    "        print(\"Child tag:\", child.tag)\n",
    "\n",
    "    mapping = dict()\n",
    "    for activity in root.find(\"specification\").find(\"resources\").find(\"labelMappings\").findall(\"labelMapping\"):\n",
    "        #print(activity.get(\"labelId\"))\n",
    "        #print(activity.get(\"eventId\"))\n",
    "        mapping[activity.get(\"labelId\")] =activity.get(\"eventId\") \n",
    "    print(mapping)\n",
    "xml_file_path = \"DCR-Task-2.xml\"\n",
    "\n",
    "parse_xml_file(xml_file_path)"
   ]
  },
  {
   "cell_type": "markdown",
   "metadata": {},
   "source": [
    "Conformance check "
   ]
  },
  {
   "cell_type": "code",
   "execution_count": 5,
   "metadata": {},
   "outputs": [
    {
     "name": "stdout",
     "output_type": "stream",
     "text": [
      "{'Activity0': 'Activity2', 'Activity1': 'Activity6', 'Activity2': 'Activity6', 'Activity6': 'Activity12', 'Activity5': 'Activity8', 'Activity4': 'Activity3', 'Activity15': 'Activity16', 'Activity8': 'Activity7', 'Activity7': 'Activity9', 'Activity9': 'Activity10', 'Activity10': 'Activity14', 'Activity14': 'Activity15'}\n"
     ]
    }
   ],
   "source": [
    "\n",
    "#print(log_df)\n",
    "#parse_xml_file(xml_file_path)\n",
    "\n",
    "pattern_counts = {\n",
    "        \"Pattern 1\": {\"Satisfied\": 0, \"Not Satisfied\": 0,},\n",
    "        \"Pattern 2\": {\"Satisfied\": 0, \"Not Satisfied\": 0,},\n",
    "        \"Pattern 3\": {\"Satisfied\": 0, \"Not Satisfied\": 0,},\n",
    "        \"Pattern 4\": {\"Satisfied\": 0, \"Not Satisfied\": 0,},\n",
    "        \"Pattern 5\": {\"Satisfied\": 0, \"Not Satisfied\": 0,},\n",
    "        \"Pattern 6\": {\"Satisfied\": 0, \"Not Satisfied\": 0,},\n",
    "        \"Pattern 7\": {\"Satisfied\": 0, \"Not Satisfied\": 0,},\n",
    "        \"Pattern 8\": {\"Satisfied\": 0, \"Not Satisfied\": 0,},\n",
    "    }\n",
    "\n",
    "\n",
    "def parse_respons(file_path):\n",
    "    # Parse the XML file\n",
    "    tree = ET.parse(file_path)\n",
    "    root = tree.getroot()\n",
    "\n",
    "\n",
    "\n",
    "    mapping2 = dict()\n",
    "    for activity in root.find(\"specification\").find(\"constraints\").find(\"responses\").findall(\"response\"):\n",
    "    #print(activity.get(\"labelId\"))\n",
    "    #print(activity.get(\"eventId\"))\n",
    "        mapping2[activity.get(\"sourceId\")] = activity.get(\"targetId\") \n",
    "    print(mapping2)\n",
    "\n",
    "parse_respons(xml_file_path)\n",
    "\n",
    "\n",
    "def pattern1_response(event, rules):\n",
    "    if event in rules['responses']:\n",
    "        return rule\n",
    "    return None\n",
    "\n"
   ]
  }
 ],
 "metadata": {
  "kernelspec": {
   "display_name": "base",
   "language": "python",
   "name": "python3"
  },
  "language_info": {
   "codemirror_mode": {
    "name": "ipython",
    "version": 3
   },
   "file_extension": ".py",
   "mimetype": "text/x-python",
   "name": "python",
   "nbconvert_exporter": "python",
   "pygments_lexer": "ipython3",
   "version": "3.9.7"
  }
 },
 "nbformat": 4,
 "nbformat_minor": 2
}
