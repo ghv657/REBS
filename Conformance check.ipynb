{
 "cells": [
  {
   "cell_type": "code",
   "execution_count": 6,
   "metadata": {},
   "outputs": [
    {
     "name": "stdout",
     "output_type": "stream",
     "text": [
      "This is what events mean: ['Fill out application', 'Approved - to board', 'Change phase to Review', 'Inform application of board review', 'Architect Review', 'Review', 'Review', 'Register Decision', 'Change phase to Board meeting', 'Lawyer Review', 'Approve', 'Change phase to Preparation', 'Set to Pre-approved', 'Screen application', 'Execute pre-decision', 'Approve', 'Execute pre-decision', 'Change phase to Preparation', 'Set to Pre-approved', 'Inform applicant of approval', 'Round approved', 'Round ends', 'Round approved']\n",
      "This is what event means: Round approved\n",
      "Conformance Check Results:\n",
      "Rule 1: Satisfied 594, Not Satisfied 15, Irrelevant 0\n",
      "Rule 2: Satisfied 1, Not Satisfied 289, Irrelevant 304\n",
      "Rule 3: Satisfied 225, Not Satisfied 0, Irrelevant 0\n",
      "Rule 4: Satisfied 594, Not Satisfied 0, Irrelevant 0\n",
      "Rule 5: Satisfied 0, Not Satisfied 0, Irrelevant 0\n",
      "Rule 6: Satisfied 0, Not Satisfied 0, Irrelevant 0\n",
      "Rule 7: Satisfied 0, Not Satisfied 0, Irrelevant 0\n",
      "Rule 8: Satisfied 0, Not Satisfied 0, Irrelevant 0\n"
     ]
    }
   ],
   "source": [
    "def check_conformance(log_df):\n",
    "    \n",
    "    \n",
    "    rule_counts = {\n",
    "        \"Rule 1\": {\"Satisfied\": 0, \"Not Satisfied\": 0, \"Irrelevant\": 0},\n",
    "        \"Rule 2\": {\"Satisfied\": 0, \"Not Satisfied\": 0, \"Irrelevant\": 0},\n",
    "        \"Rule 3\": {\"Satisfied\": 0, \"Not Satisfied\": 0, \"Irrelevant\": 0},\n",
    "        \"Rule 4\": {\"Satisfied\": 0, \"Not Satisfied\": 0, \"Irrelevant\": 0},\n",
    "        \"Rule 5\": {\"Satisfied\": 0, \"Not Satisfied\": 0, \"Irrelevant\": 0},\n",
    "        \"Rule 6\": {\"Satisfied\": 0, \"Not Satisfied\": 0, \"Irrelevant\": 0},\n",
    "        \"Rule 7\": {\"Satisfied\": 0, \"Not Satisfied\": 0, \"Irrelevant\": 0},\n",
    "        \"Rule 8\": {\"Satisfied\": 0, \"Not Satisfied\": 0, \"Irrelevant\": 0},\n",
    "    }\n",
    "\n",
    "    \n",
    "    \n",
    "\n",
    "# Iterate through each event in the log and check rules    \n",
    "    for events in log_df:\n",
    "            for i, event in enumerate(events):\n",
    "                # Rule 1: 'Fill out application' should always be the first event\n",
    "                if event == \"Fill out application\":\n",
    "                    if i == 0:\n",
    "                        rule_counts[\"Rule 1\"][\"Satisfied\"] +=1\n",
    "                    else:\n",
    "                        rule_counts[\"Rule 1\"][\"Not Satisfied\"] += 1\n",
    "                     \n",
    "            # Rule 2: 'Lawyer Review' and 'Architect Review' should never occur together\n",
    "            if \"Lawyer Review\" in events and \"Architect Review\" in events:\n",
    "                rule_counts[\"Rule 2\"][\"Not Satisfied\"] += 1\n",
    "            elif \"Lawyer Review\" in events:\n",
    "                rule_counts[\"Rule 2\"][\"Satisfied\"] += 1\n",
    "            elif \"Architect Review\" in events:\n",
    "                rule_counts[\"Rule 2\"][\"Satisfied\"] += 1\n",
    "            else:\n",
    "                rule_counts[\"Rule 2\"][\"Irrelevant\"] += 1\n",
    "\n",
    "            # Rule 3: Reject should always eventually be followed by Applicant informed and Change phase to Abort. \n",
    "            if \"Reject\" in events:\n",
    "                reject_index = events.index(\"Reject\")\n",
    "                if \"Applicant informed\" not in events[reject_index:] or \"Change phase to Abort\" not in events[reject_index:]:\n",
    "                    rule_counts[\"Rule 3\"][\"Not Satisfied\"] += 1\n",
    "                else:\n",
    "                    rule_counts[\"Rule 3\"][\"Satisfied\"] += 1\n",
    "\n",
    "            # Rule 4: First payment should only occur once, unless Undo payment is executed afterwards, in which case it may be repeated once.\n",
    "            first_payment_count = events.count(\"First payment\")\n",
    "            if first_payment_count == 1 or (first_payment_count == 2 and \"Undo payment\" in events):\n",
    "                rule_counts[\"Rule 4\"][\"Satisfied\"] += 1\n",
    "            elif first_payment_count == 0:\n",
    "                rule_counts[\"Rule 4\"][\"Satisfied\"] += 1  # Satisfies the rule by default\n",
    "            elif first_payment_count not in [0, 1, 2]:\n",
    "                rule_counts[\"Rule 4\"][\"Not Satisfied\"] += 1\n",
    "            else:\n",
    "                rule_counts[\"Rule 4\"][\"Not Satisfied\"] += 1\n",
    "\n",
    "            # Check if \"First payment\" never occurred, it satisfies the rule by default\n",
    "            #if first_payment_count == 0:\n",
    "                #rule_counts[\"Rule 4\"][\"Satisfied\"] += 1\n",
    "        \n",
    "\n",
    "\n",
    "\n",
    "\n",
    "\n",
    "    # Print or return the counts\n",
    "    print(\"This is what events mean:\",events)\n",
    "    print(\"This is what event means:\",event)\n",
    "    return rule_counts\n",
    "\n",
    "# conformance check\n",
    "result = check_conformance(log_df)\n",
    "print(\"Conformance Check Results:\")\n",
    "for rule, counts in result.items():\n",
    "    print(f\"{rule}: Satisfied {counts['Satisfied']}, Not Satisfied {counts['Not Satisfied']}, Irrelevant {counts['Irrelevant']}\")"
   ]
  },
  {
   "cell_type": "code",
   "execution_count": 7,
   "metadata": {},
   "outputs": [],
   "source": [
    "import xml.etree.ElementTree as ET\n",
    "import pandas as pd"
   ]
  },
  {
   "cell_type": "markdown",
   "metadata": {},
   "source": [
    "Defining rules"
   ]
  },
  {
   "cell_type": "code",
   "execution_count": 8,
   "metadata": {},
   "outputs": [
    {
     "name": "stdout",
     "output_type": "stream",
     "text": [
      "ID\n",
      "14a-026_0    [Fill out application, Approved - to board, Ch...\n",
      "14a-027_0    [Fill out application, Approved - to board, Ch...\n",
      "14a-031_2    [Fill out application, Screening reject, Appli...\n",
      "14a-035_0    [Fill out application, Approved - to board, Ch...\n",
      "14a-037_0    [Fill out application, Approved - to board, Ch...\n",
      "                                   ...                        \n",
      "14b-627_0    [Fill out application, Approved - to board, Ch...\n",
      "14b-627_1    [Fill out application, Approved - to board, Ch...\n",
      "14b-628_0    [Fill out application, Approved - to board, Ch...\n",
      "14b-629_1    [Fill out application, Approved - to board, Ch...\n",
      "14b-631_0    [Fill out application, Approved - to board, Ch...\n",
      "Name: EventName, Length: 594, dtype: object\n"
     ]
    }
   ],
   "source": [
    "log_df = pd.read_csv('log.csv', sep=';', usecols=['EventName','ID'])\n",
    "\n",
    "# Function to parse the DCR XML and extract rules\n",
    "def parse_dcr_xml(xml_path):\n",
    "    tree = ET.parse(xml_path)\n",
    "    root = tree.getroot()\n",
    "log_df = log_df.groupby('ID')['EventName'].apply(list)\n",
    "\n",
    "print(log_df)"
   ]
  }
 ],
 "metadata": {
  "kernelspec": {
   "display_name": "Python 3",
   "language": "python",
   "name": "python3"
  },
  "language_info": {
   "codemirror_mode": {
    "name": "ipython",
    "version": 3
   },
   "file_extension": ".py",
   "mimetype": "text/x-python",
   "name": "python",
   "nbconvert_exporter": "python",
   "pygments_lexer": "ipython3",
   "version": "3.9.7"
  }
 },
 "nbformat": 4,
 "nbformat_minor": 2
}
