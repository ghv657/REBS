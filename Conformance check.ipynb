{
 "cells": [
  {
   "cell_type": "code",
   "execution_count": 13,
   "metadata": {},
   "outputs": [],
   "source": [
    "import xml.etree.ElementTree as ET\n",
    "import pandas as pd"
   ]
  },
  {
   "cell_type": "markdown",
   "metadata": {},
   "source": [
    "Defining rules"
   ]
  },
  {
   "cell_type": "code",
   "execution_count": 14,
   "metadata": {},
   "outputs": [
    {
     "name": "stdout",
     "output_type": "stream",
     "text": [
      "ID\n",
      "14a-026_0    [Fill out application, Approved - to board, Ch...\n",
      "14a-027_0    [Fill out application, Approved - to board, Ch...\n",
      "14a-031_2    [Fill out application, Screening reject, Appli...\n",
      "14a-035_0    [Fill out application, Approved - to board, Ch...\n",
      "14a-037_0    [Fill out application, Approved - to board, Ch...\n",
      "                                   ...                        \n",
      "14b-627_0    [Fill out application, Approved - to board, Ch...\n",
      "14b-627_1    [Fill out application, Approved - to board, Ch...\n",
      "14b-628_0    [Fill out application, Approved - to board, Ch...\n",
      "14b-629_1    [Fill out application, Approved - to board, Ch...\n",
      "14b-631_0    [Fill out application, Approved - to board, Ch...\n",
      "Name: EventName, Length: 594, dtype: object\n"
     ]
    }
   ],
   "source": [
    "log_df = pd.read_csv('log.csv', sep=';', usecols=['EventName','ID'])\n",
    "\n",
    "# Function to parse the DCR XML and extract rules\n",
    "def parse_dcr_xml(xml_path):\n",
    "    tree = ET.parse(xml_path)\n",
    "    root = tree.getroot()\n",
    "log_df = log_df.groupby('ID')['EventName'].apply(list)\n",
    "\n",
    "print(log_df)"
   ]
  },
  {
   "cell_type": "code",
   "execution_count": 15,
   "metadata": {},
   "outputs": [
    {
     "name": "stdout",
     "output_type": "stream",
     "text": [
      "Conformance Check Results:\n",
      "Rule 1: Satisfied 594, Not Satisfied 0, Total 594\n",
      "Rule 2: Satisfied 305, Not Satisfied 289, Total 594\n",
      "Rule 3: Satisfied 369, Not Satisfied 225, Total 594\n",
      "Rule 4: Satisfied 594, Not Satisfied 0, Total 594\n",
      "Rule 5: Satisfied 591, Not Satisfied 3, Total 594\n",
      "Rule 6: Satisfied 592, Not Satisfied 2, Total 594\n",
      "Rule 7: Satisfied 576, Not Satisfied 18, Total 594\n",
      "Rule 8: Satisfied 592, Not Satisfied 2, Total 594\n"
     ]
    }
   ],
   "source": [
    "def check_conformance(log_df):\n",
    "    \n",
    "    \n",
    "    rule_counts = {\n",
    "        \"Rule 1\": {\"Satisfied\": 0, \"Not Satisfied\": 0},\n",
    "        \"Rule 2\": {\"Satisfied\": 0, \"Not Satisfied\": 0},\n",
    "        \"Rule 3\": {\"Satisfied\": 0, \"Not Satisfied\": 0},\n",
    "        \"Rule 4\": {\"Satisfied\": 0, \"Not Satisfied\": 0},\n",
    "        \"Rule 5\": {\"Satisfied\": 0, \"Not Satisfied\": 0},\n",
    "        \"Rule 6\": {\"Satisfied\": 0, \"Not Satisfied\": 0},\n",
    "        \"Rule 7\": {\"Satisfied\": 0, \"Not Satisfied\": 0},\n",
    "        \"Rule 8\": {\"Satisfied\": 0, \"Not Satisfied\": 0},\n",
    "    }\n",
    "\n",
    "    \n",
    "    \n",
    "\n",
    "# Iterate through each event in the log and check rules    \n",
    "    for events in log_df:\n",
    "            for i, event in enumerate(events):\n",
    "                # Rule 1: 'Fill out application' should always be the first event\n",
    "                if i == 0:\n",
    "                    if event == \"Fill out application\":\n",
    "                        rule_counts[\"Rule 1\"][\"Satisfied\"] +=1\n",
    "                    else:\n",
    "                        rule_counts[\"Rule 1\"][\"Not Satisfied\"] += 1\n",
    "\n",
    "                     \n",
    "            # Rule 2: 'Lawyer Review' and 'Architect Review' should never occur together\n",
    "            if \"Lawyer Review\" in events and \"Architect Review\" in events:\n",
    "                rule_counts[\"Rule 2\"][\"Not Satisfied\"] += 1\n",
    "            else:\n",
    "                rule_counts[\"Rule 2\"][\"Satisfied\"] += 1\n",
    "\n",
    "            # Rule 3: Reject should always eventually be followed by Applicant informed and Change phase to Abort. \n",
    "            if \"Reject\" in events:\n",
    "                reject_index = events.index(\"Reject\")\n",
    "                # Check if either \"Applicant informed\" or \"Change phase to Abort\" occurs after \"Reject\"\n",
    "                if \"Applicant informed\" not in events[reject_index] and \"Change phase to Abort\" not in events[reject_index]:\n",
    "                    rule_counts[\"Rule 3\"][\"Not Satisfied\"] += 1\n",
    "            else:\n",
    "                rule_counts[\"Rule 3\"][\"Satisfied\"] += 1\n",
    "\n",
    "\n",
    "            # Rule 4: First payment should only occur once, unless Undo payment is executed afterwards, in which case it may be repeated once.\n",
    "            first_payment_count = events.count(\"First payment\")\n",
    "            if first_payment_count == 1 or (first_payment_count == 2 and \"Undo payment\" in events):\n",
    "                rule_counts[\"Rule 4\"][\"Satisfied\"] += 1\n",
    "            elif first_payment_count == 0:\n",
    "                rule_counts[\"Rule 4\"][\"Satisfied\"] += 1  # Satisfies the rule by default\n",
    "            elif first_payment_count not in [0, 1, 2]:\n",
    "                rule_counts[\"Rule 4\"][\"Not Satisfied\"] += 1\n",
    "            else:\n",
    "                rule_counts[\"Rule 4\"][\"Not Satisfied\"] += 1\n",
    "            \n",
    "            # Rule 5: If Account number changed happens, then afterwards Approve changed account needs to \n",
    "            # be executed before one can execute First payment\n",
    "            if \"Account number changed\" in events:\n",
    "                account_index = events.index(\"Account number changed\")\n",
    "                if \"Approve changed account\" not in events[account_index:] or \"First payment\" not in events[account_index:]:\n",
    "                    rule_counts[\"Rule 5\"][\"Not Satisfied\"] += 1\n",
    "            else:\n",
    "                rule_counts[\"Rule 5\"][\"Satisfied\"] += 1\n",
    "\n",
    "            # Rule 6: Change Phase to Payout should always be followed by First payment\n",
    "            if \"Change Phase to Payout\" in events:\n",
    "                payout_index = events.index(\"Change Phase to Payout\")\n",
    "                if \"First payment\" not in events[payout_index:]:\n",
    "                    rule_counts[\"Rule 6\"][\"Not Satisfied\"] += 1\n",
    "                else:\n",
    "                    rule_counts[\"Rule 6\"][\"Satisfied\"] += 1\n",
    "            else:\n",
    "                rule_counts[\"Rule 6\"][\"Satisfied\"] += 1\n",
    "\n",
    "            # Rule 7: Restrictions for Change Phase to End Report after Payout and First payment\n",
    "            if \"Change Phase to Payout\" in events:\n",
    "                payout_index = events.index(\"Change Phase to Payout\")\n",
    "                if \"First payment\" in events[payout_index:]:\n",
    "                    if \"Change Phase to End Report\" in events[payout_index:]:\n",
    "                        report_index = events.index(\"Change Phase to End Report\")\n",
    "                        if \"First payment\" not in events[report_index:]:\n",
    "                            rule_counts[\"Rule 7\"][\"Not Satisfied\"] += 1\n",
    "                        else:\n",
    "                            print(\"How did I get here?\")\n",
    "                    else:\n",
    "                        rule_counts[\"Rule 7\"][\"Not Satisfied\"] += 1\n",
    "                elif \"Change Phase to End Report\" in events[payout_index:]: \n",
    "                    rule_counts[\"Rule 7\"][\"Not Satisfied\"] += 1\n",
    "                else:\n",
    "                    rule_counts[\"Rule 7\"][\"Satisfied\"] += 1\n",
    "            else:\n",
    "                rule_counts[\"Rule 7\"][\"Satisfied\"] += 1\n",
    "\n",
    "            # Rule 8: Execute Abandon and Change phase to Abandon\n",
    "            if \"Execute abandon\" in events:\n",
    "                abandon_index = events.index(\"Execute abandon\")\n",
    "                if \"Change phase to abandon\" not in events[abandon_index:]:\n",
    "                    rule_counts[\"Rule 8\"][\"Not Satisfied\"] += 1\n",
    "            else:\n",
    "                rule_counts[\"Rule 8\"][\"Satisfied\"] += 1\n",
    "\n",
    "    # Print or return the counts\n",
    "    #print(\"This is what events mean:\",events)\n",
    "    #print(\"This is what event means:\",event)\n",
    "    return rule_counts\n",
    "\n",
    "# conformance check\n",
    "result = check_conformance(log_df)\n",
    "print(\"Conformance Check Results:\")\n",
    "for rule, counts in result.items():\n",
    "    total = counts['Satisfied'] + counts['Not Satisfied']\n",
    "    print(f\"{rule}: Satisfied {counts['Satisfied']}, Not Satisfied {counts['Not Satisfied']}, Total {total}\")"
   ]
  },
  {
   "cell_type": "markdown",
   "metadata": {},
   "source": [
    "Parsing and defining xml file"
   ]
  },
  {
   "cell_type": "code",
   "execution_count": 16,
   "metadata": {},
   "outputs": [
    {
     "name": "stdout",
     "output_type": "stream",
     "text": [
      "Root tag: dcrgraph\n",
      "{'Fill out application': 'Activity0', 'Lawyer review': 'Activity1', 'Architect Review': 'Activity2', 'Change phase to abandon': 'Activity3', 'Execute abandon': 'Activity4', 'Approve': 'Activity5', 'Reject': 'Activity6', 'Approve changed account': 'Activity7', 'Account number changed': 'Activity8', 'Change phase to payout': 'Activity9', 'First payment': 'Activity10', 'Undo Payment': 'Activity11', 'Change phase to aborted': 'Activity12', 'Applicant informed': 'Activity13', 'Change phase to end report': 'Activity14', 'Receive end report': 'Activity15', 'Change phase to completed': 'Activity16'}\n"
     ]
    }
   ],
   "source": [
    "def parse_xml_file(file_path):\n",
    "    # Parse the XML file\n",
    "    tree = ET.parse(file_path)\n",
    "    root = tree.getroot()\n",
    "\n",
    "    print(\"Root tag:\", root.tag)\n",
    "    for child in root.findall(\"labelMapping\"):\n",
    "        print(\"Child tag:\", child.tag)\n",
    "\n",
    "    mapping = dict()\n",
    "    for activity in root.find(\"specification\").find(\"resources\").find(\"labelMappings\").findall(\"labelMapping\"):\n",
    "        #print(activity.get(\"labelId\"))\n",
    "        #print(activity.get(\"eventId\"))\n",
    "        mapping[activity.get(\"labelId\")] =activity.get(\"eventId\") \n",
    "    print(mapping)\n",
    "xml_file_path = \"DCR-Task-2.xml\"\n",
    "\n",
    "parse_xml_file(xml_file_path)"
   ]
  },
  {
   "cell_type": "markdown",
   "metadata": {},
   "source": [
    "Conformance check "
   ]
  },
  {
   "cell_type": "code",
   "execution_count": 17,
   "metadata": {},
   "outputs": [
    {
     "name": "stdout",
     "output_type": "stream",
     "text": [
      "{'Activity0': 'Activity2', 'Activity1': 'Activity6', 'Activity2': 'Activity6', 'Activity6': 'Activity12', 'Activity5': 'Activity8', 'Activity4': 'Activity3', 'Activity15': 'Activity16', 'Activity8': 'Activity7', 'Activity7': 'Activity9', 'Activity9': 'Activity10', 'Activity10': 'Activity14', 'Activity14': 'Activity15'}\n"
     ]
    }
   ],
   "source": [
    "\n",
    "#print(log_df)\n",
    "#parse_xml_file(xml_file_path)\n",
    "\n",
    "pattern_counts = {\n",
    "        \"Pattern 1\": {\"Satisfied\": 0, \"Not Satisfied\": 0,},\n",
    "        \"Pattern 2\": {\"Satisfied\": 0, \"Not Satisfied\": 0,},\n",
    "        \"Pattern 3\": {\"Satisfied\": 0, \"Not Satisfied\": 0,},\n",
    "        \"Pattern 4\": {\"Satisfied\": 0, \"Not Satisfied\": 0,},\n",
    "        \"Pattern 5\": {\"Satisfied\": 0, \"Not Satisfied\": 0,},\n",
    "        \"Pattern 6\": {\"Satisfied\": 0, \"Not Satisfied\": 0,},\n",
    "        \"Pattern 7\": {\"Satisfied\": 0, \"Not Satisfied\": 0,},\n",
    "        \"Pattern 8\": {\"Satisfied\": 0, \"Not Satisfied\": 0,},\n",
    "    }\n",
    "\n",
    "\n",
    "def parse_respons(file_path):\n",
    "    # Parse the XML file\n",
    "    tree = ET.parse(file_path)\n",
    "    root = tree.getroot()\n",
    "\n",
    "\n",
    "\n",
    "    mapping2 = dict()\n",
    "    for activity in root.find(\"specification\").find(\"constraints\").find(\"responses\").findall(\"response\"):\n",
    "    #print(activity.get(\"labelId\"))\n",
    "    #print(activity.get(\"eventId\"))\n",
    "        mapping2[activity.get(\"sourceId\")] = activity.get(\"targetId\") \n",
    "    print(mapping2)\n",
    "\n",
    "parse_respons(xml_file_path)\n",
    "\n",
    "\n",
    "def pattern1_response(event, rules):\n",
    "    if event in rules['responses']:\n",
    "        return rule\n",
    "    return None\n",
    "\n"
   ]
  },
  {
   "cell_type": "code",
   "execution_count": null,
   "metadata": {},
   "outputs": [],
   "source": []
  }
 ],
 "metadata": {
  "kernelspec": {
   "display_name": "Python 3",
   "language": "python",
   "name": "python3"
  },
  "language_info": {
   "codemirror_mode": {
    "name": "ipython",
    "version": 3
   },
   "file_extension": ".py",
   "mimetype": "text/x-python",
   "name": "python",
   "nbconvert_exporter": "python",
   "pygments_lexer": "ipython3",
   "version": "3.9.7"
  }
 },
 "nbformat": 4,
 "nbformat_minor": 2
}
